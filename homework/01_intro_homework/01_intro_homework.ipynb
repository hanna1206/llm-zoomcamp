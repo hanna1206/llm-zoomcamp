{
 "cells": [
  {
   "cell_type": "code",
   "execution_count": 1,
   "id": "49e1352d-ffac-428e-a8eb-2c39bcf572a0",
   "metadata": {},
   "outputs": [],
   "source": [
    "import requests \n",
    "\n",
    "docs_url = 'https://github.com/DataTalksClub/llm-zoomcamp/blob/main/01-intro/documents.json?raw=1'\n",
    "docs_response = requests.get(docs_url)\n",
    "documents_raw = docs_response.json()\n",
    "\n",
    "documents = []\n",
    "\n",
    "for course in documents_raw:\n",
    "    course_name = course['course']\n",
    "\n",
    "    for doc in course['documents']:\n",
    "        doc['course'] = course_name\n",
    "        documents.append(doc)"
   ]
  },
  {
   "cell_type": "code",
   "execution_count": null,
   "id": "079d0089-f94d-479f-adb7-ed2eae00306b",
   "metadata": {},
   "outputs": [],
   "source": [
    "from elasticsearch import Elasticsearch\n",
    "from tqdm.auto import tqdm\n",
    "\n",
    "es_client = Elasticsearch('http://localhost:9200') \n",
    "\n",
    "index_settings = {\n",
    "    \"settings\": {\n",
    "        \"number_of_shards\": 1,\n",
    "        \"number_of_replicas\": 0\n",
    "    },\n",
    "    \"mappings\": {\n",
    "        \"properties\": {\n",
    "            \"text\": {\"type\": \"text\"},\n",
    "            \"section\": {\"type\": \"text\"},\n",
    "            \"question\": {\"type\": \"text\"},\n",
    "            \"course\": {\"type\": \"keyword\"} \n",
    "        }\n",
    "    }\n",
    "}\n",
    "\n",
    "index_name = \"course-questions\"\n",
    "\n",
    "es_client.indices.create(index=index_name, body=index_settings)\n",
    "\n",
    "for doc in tqdm(documents):\n",
    "    es_client.index(index=index_name, document=doc)"
   ]
  },
  {
   "cell_type": "code",
   "execution_count": 3,
   "id": "3fd6bd6a-2cf3-434b-8e30-e262cac0d782",
   "metadata": {},
   "outputs": [],
   "source": [
    "def elastic_search(query, course):\n",
    "    search_query = {\n",
    "        \"size\": 3,\n",
    "        \"query\": {\n",
    "            \"bool\": {\n",
    "                \"must\": {\n",
    "                    \"multi_match\": {\n",
    "                        \"query\": query,\n",
    "                        \"fields\": [\"question^4\", \"text\"],\n",
    "                        \"type\": \"best_fields\"\n",
    "                    }\n",
    "                },\n",
    "                \"filter\": {\n",
    "                    \"term\": {\n",
    "                        \"course\": course\n",
    "                    }\n",
    "                }\n",
    "            }\n",
    "        }\n",
    "    }\n",
    "\n",
    "    response = es_client.search(index=index_name, body=search_query)\n",
    "    \n",
    "    #result_docs = []\n",
    "    \n",
    "    #for hit in response['hits']['hits']:\n",
    "     #   result_docs.append(hit['_source'])\n",
    "    \n",
    "    return response"
   ]
  },
  {
   "cell_type": "code",
   "execution_count": 4,
   "id": "7d0f01fd-55ce-4c9f-adcc-8b995e36634f",
   "metadata": {},
   "outputs": [
    {
     "name": "stdout",
     "output_type": "stream",
     "text": [
      "[{'_id': '_P_aVZcBJ-Mqo_mn84Cr',\n",
      "  '_index': 'course-questions',\n",
      "  '_score': 73.38676,\n",
      "  '_source': {'course': 'machine-learning-zoomcamp',\n",
      "              'question': 'How do I debug a docker container?',\n",
      "              'section': '5. Deploying Machine Learning Models',\n",
      "              'text': 'Launch the container image in interactive mode and '\n",
      "                      'overriding the entrypoint, so that it starts a bash '\n",
      "                      'command.\\n'\n",
      "                      'docker run -it --entrypoint bash <image>\\n'\n",
      "                      'If the container is already running, execute a command '\n",
      "                      'in the specific container:\\n'\n",
      "                      'docker ps (find the container-id)\\n'\n",
      "                      'docker exec -it <container-id> bash\\n'\n",
      "                      '(Marcos MJD)'}},\n",
      " {'_id': 'G__aVZcBJ-Mqo_mn9IE3',\n",
      "  '_index': 'course-questions',\n",
      "  '_score': 66.688705,\n",
      "  '_source': {'course': 'machine-learning-zoomcamp',\n",
      "              'question': 'How do I copy files from my local machine to docker '\n",
      "                          'container?',\n",
      "              'section': '5. Deploying Machine Learning Models',\n",
      "              'text': 'You can copy files from your local machine into a '\n",
      "                      \"Docker container using the docker cp command. Here's \"\n",
      "                      'how to do it:\\n'\n",
      "                      'To copy a file or directory from your local machine '\n",
      "                      'into a running Docker container, you can use the '\n",
      "                      '`docker cp command`. The basic syntax is as follows:\\n'\n",
      "                      'docker cp /path/to/local/file_or_directory '\n",
      "                      'container_id:/path/in/container\\n'\n",
      "                      'Hrithik Kumar Advani'}},\n",
      " {'_id': 'HP_aVZcBJ-Mqo_mn9IE6',\n",
      "  '_index': 'course-questions',\n",
      "  '_score': 59.812744,\n",
      "  '_source': {'course': 'machine-learning-zoomcamp',\n",
      "              'question': 'How do I copy files from a different folder into '\n",
      "                          'docker container’s working directory?',\n",
      "              'section': '5. Deploying Machine Learning Models',\n",
      "              'text': 'You can copy files from your local machine into a '\n",
      "                      \"Docker container using the docker cp command. Here's \"\n",
      "                      'how to do it:\\n'\n",
      "                      'In the Dockerfile, you can provide the folder '\n",
      "                      'containing the files that you want to copy over. The '\n",
      "                      'basic syntax is as follows:\\n'\n",
      "                      'COPY [\"src/predict.py\", \"models/xgb_model.bin\", '\n",
      "                      '\"./\"]\\t\\t\\t\\t\\t\\t\\t\\t\\t\\t\\tGopakumar Gopinathan'}}]\n"
     ]
    }
   ],
   "source": [
    "from pprint import pprint\n",
    "\n",
    "search_result = elastic_search(\"How do copy a file to a Docker container?\", \"machine-learning-zoomcamp\")\n",
    "\n",
    "pprint(search_result['hits']['hits'])"
   ]
  },
  {
   "cell_type": "code",
   "execution_count": 5,
   "id": "5a9d4c03-d604-444c-89b0-5c72fa13c443",
   "metadata": {},
   "outputs": [],
   "source": [
    "def build_prompt(question, search_result):\n",
    "    context_template = \"\"\"\n",
    "Q: {question}\n",
    "A: {text}\n",
    "\"\"\".strip()\n",
    "\n",
    "    prompt_template = \"\"\"\n",
    "You're a course teaching assistant. Answer the QUESTION based on the CONTEXT from the FAQ database.\n",
    "Use only the facts from the CONTEXT when answering the QUESTION.\n",
    "\n",
    "QUESTION: {question}\n",
    "\n",
    "CONTEXT:\n",
    "{context}\n",
    "\"\"\".strip()\n",
    "\n",
    "    context = \"\"\n",
    "    for hit in search_result[\"hits\"][\"hits\"]:\n",
    "        context = context + \"\\n\\n\" + context_template.format(question=hit[\"_source\"][\"question\"], text=hit[\"_source\"][\"text\"])\n",
    "\n",
    "    prompt = prompt_template.format(question=question, context=context)\n",
    "\n",
    "    return prompt"
   ]
  },
  {
   "cell_type": "code",
   "execution_count": null,
   "id": "10dc3ce8-9d68-41fc-8e2d-82ed4b71c1d4",
   "metadata": {},
   "outputs": [],
   "source": [
    "print(build_prompt(\"How do copy a file to a Docker container?\", search_result))"
   ]
  },
  {
   "cell_type": "code",
   "execution_count": 6,
   "id": "af2a2fb5-0fb5-49e7-8b05-43a60de6ed0b",
   "metadata": {},
   "outputs": [
    {
     "name": "stdout",
     "output_type": "stream",
     "text": [
      "1448\n"
     ]
    }
   ],
   "source": [
    "print(len(build_prompt(\"How do copy a file to a Docker container?\", search_result)))"
   ]
  },
  {
   "cell_type": "code",
   "execution_count": 7,
   "id": "bfe1ee02-3136-49bc-b58d-80749d2b013d",
   "metadata": {},
   "outputs": [],
   "source": [
    "import tiktoken\n",
    "\n",
    "encoding = tiktoken.encoding_for_model(\"gpt-4o\")"
   ]
  },
  {
   "cell_type": "code",
   "execution_count": 11,
   "id": "b2909d27-801c-421f-bd06-1ba477bd86aa",
   "metadata": {},
   "outputs": [],
   "source": [
    "our_prompt = build_prompt(\"How do copy a file to a Docker container?\", search_result)\n",
    "enc = tiktoken.encoding_for_model(\"gpt-4o\")\n",
    "enc_result = enc.encode(our_prompt)"
   ]
  },
  {
   "cell_type": "code",
   "execution_count": 13,
   "id": "31270f33-095a-4af3-a236-41ebe93d3465",
   "metadata": {},
   "outputs": [
    {
     "data": {
      "text/plain": [
       "320"
      ]
     },
     "execution_count": 13,
     "metadata": {},
     "output_type": "execute_result"
    }
   ],
   "source": [
    "len(enc_result)"
   ]
  },
  {
   "cell_type": "code",
   "execution_count": 14,
   "id": "b1c965fa-49ef-4c4f-bfd9-10fe6bad53ce",
   "metadata": {},
   "outputs": [],
   "source": [
    "from openai import OpenAI\n",
    "\n",
    "llm_client = OpenAI()\n",
    "\n",
    "\n",
    "def llm(prompt):\n",
    "    response = llm_client.chat.completions.create(\n",
    "        model='gpt-4o',\n",
    "        messages=[{\"role\": \"user\", \"content\": prompt}]\n",
    "    )\n",
    "    \n",
    "    return response.choices[0].message.content"
   ]
  },
  {
   "cell_type": "code",
   "execution_count": 15,
   "id": "578b6136-23a2-4f9d-9b1a-bc6a1769e03d",
   "metadata": {},
   "outputs": [],
   "source": [
    "result = llm(our_prompt)"
   ]
  },
  {
   "cell_type": "code",
   "execution_count": 16,
   "id": "19fd351a-5d8a-4a9f-860f-c21b74bc9e3d",
   "metadata": {},
   "outputs": [
    {
     "data": {
      "text/plain": [
       "'To copy a file to a Docker container, you can use the `docker cp` command. The basic syntax is:\\n\\n```\\ndocker cp /path/to/local/file_or_directory container_id:/path/in/container\\n```\\n\\nThis command allows you to copy files from your local machine into a running Docker container.'"
      ]
     },
     "execution_count": 16,
     "metadata": {},
     "output_type": "execute_result"
    }
   ],
   "source": [
    "result"
   ]
  },
  {
   "cell_type": "code",
   "execution_count": null,
   "id": "152a4740-5a70-407d-8948-8e6058f9b02b",
   "metadata": {},
   "outputs": [],
   "source": []
  }
 ],
 "metadata": {
  "kernelspec": {
   "display_name": "Python 3 (ipykernel)",
   "language": "python",
   "name": "python3"
  },
  "language_info": {
   "codemirror_mode": {
    "name": "ipython",
    "version": 3
   },
   "file_extension": ".py",
   "mimetype": "text/x-python",
   "name": "python",
   "nbconvert_exporter": "python",
   "pygments_lexer": "ipython3",
   "version": "3.12.1"
  }
 },
 "nbformat": 4,
 "nbformat_minor": 5
}
